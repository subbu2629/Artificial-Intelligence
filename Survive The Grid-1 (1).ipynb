{
 "cells": [
  {
   "cell_type": "markdown",
   "metadata": {},
   "source": [
    "# Computational and Artifical Intelligenge Assignment 1\n",
    "\n",
    "Problem Solving by Searching using IDA* and Best First Search\n",
    "\n",
    "Weightage: 10%\n",
    "\n",
    "Date of Posting - 04/July/2019\n",
    "\n",
    "Deadline - 19/July/2019"
   ]
  },
  {
   "cell_type": "markdown",
   "metadata": {},
   "source": [
    "Please enter group and individual information here\n",
    "\n",
    "Group ID/Number:\n",
    "\n",
    "Group Members BITS ID:\n",
    "\n",
    "PAMIDIPATI SAI LAKSHMI THANUJA : 2018AH04106\n",
    "GANNAVARAPU S S VENKATA SUBBA RAO : 2018AH04108\n",
    "Thiraviam Ramaiah Pillai : 2018AH04118"
   ]
  },
  {
   "cell_type": "markdown",
   "metadata": {},
   "source": [
    "Things to follow\n",
    "\n",
    "1. Use appropriate data structures for the fringes and explain the reasoning behind the usage. You need not create data structures, instead use available libraries directly.\n",
    "\n",
    "2. Avoid any hard-coding unless absolutely necessary.\n",
    "\n",
    "3. Provide proper documentation"
   ]
  },
  {
   "cell_type": "markdown",
   "metadata": {},
   "source": [
    "Coding begins now!!!"
   ]
  },
  {
   "cell_type": "markdown",
   "metadata": {},
   "source": [
    "Define the environment representation in the following code block"
   ]
  },
  {
   "cell_type": "code",
   "execution_count": 133,
   "metadata": {},
   "outputs": [],
   "source": [
    "#Environment representation goes here\n",
    "import sys\n",
    "import math\n",
    "import queue as q\n",
    "import time\n",
    "import numpy as np\n",
    "import heapq as hpq_BFS\n",
    "from collections import deque\n",
    " \n",
    "environment = [[1, 1, 1, 1, 1, 1, 1, 1, 1, 1, 1],\n",
    "               [1, 1, 1, 1, 1, 1, 0, 0, 0, 1, 1],\n",
    "               [1, 1, 0, 0, 1, 1, 1, 1, 0, 1, 1],\n",
    "               [1, 1, 0, 0, 1, 1, 1, 1, 0, 1, 1],\n",
    "               [1, 1, 1, 1, 1, 1, 1, 1, 1, 1, 1],\n",
    "               [1, 1, 1, 1, 1, 1, 1, 1, 1, 1, 1],\n",
    "               [1, 1, 0, 0, 0, 0, 0, 0, 0, 1, 1],\n",
    "               [1, 1, 1, 1, 1, 1, 1, 1, 1, 1, 1]]\n",
    "    \n",
    "\n",
    "start = [0, 2]\n",
    "end = [5, 10]\n",
    "tot_rows = len(environment)\n",
    "tot_columns = len(environment[0])\n",
    "row_moves = [0, -1, 0, 1]\n",
    "column_moves = [-1, 0, 1, 0]\n",
    "\n",
    "q_IDAstar = q.Queue(maxsize=tot_rows*tot_columns)\n",
    "q_BFS = q.Queue(maxsize=tot_rows*tot_columns)"
   ]
  },
  {
   "cell_type": "markdown",
   "metadata": {},
   "source": [
    "Define the fringe (data structure) and its supported methods in the following code block"
   ]
  },
  {
   "cell_type": "code",
   "execution_count": 134,
   "metadata": {},
   "outputs": [],
   "source": [
    "def heuristic_IDAstar(current_row,current_column,end):\n",
    "    # Calculating Euclidean distance    \n",
    "    heuristic_cost = round(math.sqrt(math.pow((current_row - end[0]),2) + math.pow((current_column - end[1]),2)),2)    \n",
    "    return heuristic_cost\n",
    "\n",
    "def heuristic_BFS(current_row,current_column,end):\n",
    "    heuristic_cost = round(math.sqrt(math.pow((current_row - end[0]),2) + math.pow((current_column - end[1]),2)),2)    \n",
    "    return heuristic_cost\n",
    "\n",
    "# Node Class for IDA* Path finding \n",
    "\n",
    "class agent_coordinates():\n",
    "    \n",
    "    def __init__(self,row,column):\n",
    "        self.row = row\n",
    "        self.column = column\n",
    "\n",
    "class Node():\n",
    "    \n",
    "    def __init__(self,parent=None,position=None):\n",
    "        self.parent = parent\n",
    "        self.position = position        \n",
    "\n",
    "        self.g_cost = 0\n",
    "        self.h_cost = 0\n",
    "        self.f_cost = 0\n",
    "        self.traveresed = 0\n",
    "\n",
    "    def __eq__(self, other):\n",
    "        return self.position == other.position\n",
    "\n",
    "def get_agent_position(current_row,current_column,tot_rows, tot_columns):\n",
    "    if (current_row >=0 and current_row < tot_rows) and (current_column >=0 and current_column < tot_columns):\n",
    "        return True\n",
    "    return False    \n",
    "\n",
    "def generate_successors(current_node):\n",
    "    successors = []\n",
    "    coordinates = current_node.position\n",
    "\n",
    "    for new_position in range(0,4):\n",
    "        new_row = coordinates.row + row_moves[new_position]\n",
    "        new_column = coordinates.column + column_moves[new_position]\n",
    "        if (get_agent_position(new_row,new_column,tot_columns,tot_columns)) and environment[new_row][new_column] != 0:\n",
    "            successors.append(Node(current_node,agent_coordinates(new_row,new_column)))  \n",
    "\n",
    "    return successors\n",
    "\n",
    "def min_f_cost(f_limit,successors):\n",
    "    f_min_cost_node = []\n",
    "    for child in successors: \n",
    "        location = child.position\n",
    "        if (child.f_cost >= f_limit):            \n",
    "            f_min_cost_node.append([child, child.f_cost])\n",
    "    min_f_cost_node = sorted(f_min_cost_node, key = lambda x:x[1])    \n",
    "    return min_f_cost_node[0][0]\n",
    "\n",
    "def is_Exit_Location(row,column,destination):\n",
    "    location = []\n",
    "    location.append([row, column])\n",
    "    if (location[0] == destination):\n",
    "        return False\n",
    "    elif (location[0] != destination):\n",
    "        return True\n",
    "    \n",
    "def bfs_min(list_of_nodes,bfs_cost):\n",
    "    for item in list_of_nodes:\n",
    "        if((item.bfs_cost == bfs_cost) and item.traveresed !=1):\n",
    "            return item"
   ]
  },
  {
   "cell_type": "markdown",
   "metadata": {},
   "source": [
    "Define your IDA* in the following code block"
   ]
  },
  {
   "cell_type": "code",
   "execution_count": 135,
   "metadata": {},
   "outputs": [],
   "source": [
    "#Algorithm IDA*\n",
    "def ida_star(node,destination=end): \n",
    "    \n",
    "    agent_path = []\n",
    "    optimal_path_cost = []\n",
    "    q_IDAstar.put(node)\n",
    "    coordinates = node.position\n",
    "    nodes_mem = []\n",
    "    \n",
    "    while (not q_IDAstar.empty() and (is_Exit_Location(coordinates.row,coordinates.column,destination))):        \n",
    "        node = q_IDAstar.get() \n",
    "        coordinates = node.position\n",
    "       \n",
    "        if (get_agent_position(coordinates.row,coordinates.column,tot_rows,tot_columns)) and environment[coordinates.row][coordinates.column] != 0:\n",
    "            if (node.parent is None):\n",
    "                f_limit = heuristic_IDAstar(coordinates.row,coordinates.column,destination)\n",
    "            \n",
    "            children = generate_successors(current_node=node)            \n",
    "            agent_path.append([coordinates.row, coordinates.column])\n",
    "\n",
    "            for child in children:\n",
    "                child.g_cost = node.g_cost + 1\n",
    "                child_coordinates = child.position\n",
    "                child.h_cost = heuristic_IDAstar(child_coordinates.row,child_coordinates.column,destination)\n",
    "                child.f_cost = child.g_cost + child.h_cost\n",
    "                nodes_mem.append(node)\n",
    "            \n",
    "            optimal_node = min_f_cost(f_limit,children)  \n",
    "            new_coordinates = optimal_node.position\n",
    "            f_limit = optimal_node.f_cost \n",
    "            optimal_path_cost.append(optimal_node.f_cost)\n",
    "            \n",
    "            if (is_Exit_Location(new_coordinates.row,new_coordinates.column,destination)):\n",
    "                q_IDAstar.put(optimal_node)\n",
    "            else:\n",
    "                optimal_path_cost.append(optimal_node.f_cost)\n",
    "                agent_path.append([new_coordinates.row, new_coordinates.column])\n",
    "                memory_nodes = len(nodes_mem)\n",
    "\n",
    "    return agent_path,optimal_path_cost,memory_nodes\n"
   ]
  },
  {
   "cell_type": "markdown",
   "metadata": {},
   "source": [
    "Define your Greedy Best First Search algorithm in the following code block"
   ]
  },
  {
   "cell_type": "code",
   "execution_count": 136,
   "metadata": {},
   "outputs": [],
   "source": [
    "def bfs(node,destination):\n",
    "    \n",
    "    start_list = []\n",
    "    end_list = []    \n",
    "    min_list = []\n",
    "    bfs_agent_path = []\n",
    "    opt_path_cost = []\n",
    "    q_BFS.put(node)\n",
    "    coordinates = node.position\n",
    "    \n",
    "    while (not q_BFS.empty() and (is_Exit_Location(coordinates.row,coordinates.column,destination))):\n",
    "        node = q_BFS.get()\n",
    "        coordinates = node.position        \n",
    "\n",
    "        if (get_agent_position(coordinates.row,coordinates.column,tot_rows,tot_columns)) and environment[coordinates.row][coordinates.column] != 0:\n",
    "            if (node.parent is None):\n",
    "                node.bfs_cost = heuristic_BFS(coordinates.row,coordinates.column,destination)                \n",
    "                hpq_BFS.heappush(min_list,node.bfs_cost)\n",
    "                start_list.append(node)\n",
    "\n",
    "            if (len(start_list)!=0 and (node in start_list and node.traveresed == 1)):\n",
    "                start_list.remove(node)\n",
    "                end_list.append(node)\n",
    "            \n",
    "            children = generate_successors(current_node=node)\n",
    "            bfs_agent_path.append([coordinates.row,coordinates.column])\n",
    "\n",
    "            for child in children:\n",
    "                child_coordinates = child.position\n",
    "                child.h_cost = heuristic_BFS(child_coordinates.row,child_coordinates.column,destination)\n",
    "                child.bfs_cost = child.h_cost\n",
    "                start_list.append(child)\n",
    "                hpq_BFS.heappush(min_list,child.bfs_cost)\n",
    "\n",
    "            hpq_BFS.heapify(min_list)\n",
    "            bfs_cost = hpq_BFS.heappop(min_list)\n",
    "            opt_path_cost.append(round(bfs_cost,2)) \n",
    "            min_cost_node = bfs_min(start_list + end_list,bfs_cost)\n",
    "            new_coordinates = min_cost_node.position\n",
    "\n",
    "            if (is_Exit_Location(new_coordinates.row,new_coordinates.column,destination)):\n",
    "                    q_BFS.put(min_cost_node)\n",
    "            else:\n",
    "                mem_nodes_bfs = len(start_list+end_list)\n",
    "                opt_path_cost.append(round(min_cost_node.bfs_cost,2))\n",
    "                bfs_agent_path.append([new_coordinates.row, new_coordinates.column])           \n",
    "\n",
    "    return bfs_agent_path,opt_path_cost,mem_nodes_bfs"
   ]
  },
  {
   "cell_type": "markdown",
   "metadata": {},
   "source": [
    "Feel free to add code blocks for any other methods needed starting here."
   ]
  },
  {
   "cell_type": "code",
   "execution_count": null,
   "metadata": {},
   "outputs": [],
   "source": [
    "#Code Block 1\n"
   ]
  },
  {
   "cell_type": "markdown",
   "metadata": {},
   "source": [
    "Call your main function/algorithm for IDA* in the next code block with appropriate input representation"
   ]
  },
  {
   "cell_type": "code",
   "execution_count": 137,
   "metadata": {},
   "outputs": [],
   "source": [
    "#Computation call for IDA*\n",
    "current_node = Node(None,agent_coordinates(start[0],start[1]))\n",
    "agent_path_IDA,path_cost_IDA,memory_nodes=ida_star(current_node,end)\n"
   ]
  },
  {
   "cell_type": "markdown",
   "metadata": {},
   "source": [
    "Call your main function/algorithm for Best First Search in the next code block with appropriate input representation"
   ]
  },
  {
   "cell_type": "code",
   "execution_count": 138,
   "metadata": {},
   "outputs": [],
   "source": [
    "#Computation call for Best First Search\n",
    "current_node = Node(None,agent_coordinates(start[0],start[1]))\n",
    "agent_path_BFS,path_cost_BFS,mem_nodes_bfs=bfs(current_node,end)"
   ]
  },
  {
   "cell_type": "markdown",
   "metadata": {},
   "source": [
    "The agent should provide expected output for questions mentioned below in the subsequent blocks"
   ]
  },
  {
   "cell_type": "markdown",
   "metadata": {},
   "source": [
    "(1) Path taken to reach destination from source for IDA*"
   ]
  },
  {
   "cell_type": "code",
   "execution_count": 139,
   "metadata": {},
   "outputs": [
    {
     "name": "stdout",
     "output_type": "stream",
     "text": [
      "Path taken here using IDA* ---- [[0, 2], [0, 3], [0, 4], [0, 5], [0, 6], [0, 7], [0, 8], [0, 9], [1, 9], [2, 9], [3, 9], [4, 9], [4, 10], [5, 10]]\n"
     ]
    }
   ],
   "source": [
    "# Execute statement to retrieve the path taken here using IDA*\n",
    "print(\"Path taken here using IDA* ----\",agent_path_IDA)"
   ]
  },
  {
   "cell_type": "markdown",
   "metadata": {},
   "source": [
    "(1) Path taken to reach destination from source for Best First Search"
   ]
  },
  {
   "cell_type": "code",
   "execution_count": 140,
   "metadata": {},
   "outputs": [
    {
     "name": "stdout",
     "output_type": "stream",
     "text": [
      "Path taken using Best First Search ---- [[0, 2], [0, 3], [0, 4], [0, 5], [0, 6], [0, 7], [0, 8], [0, 9], [1, 9], [2, 9], [3, 9], [4, 9], [4, 10], [5, 10]]\n"
     ]
    }
   ],
   "source": [
    "# Execute statement to retrieve the path taken here using Best First Search\n",
    "print(\"Path taken using Best First Search ----\" ,agent_path_BFS)"
   ]
  },
  {
   "cell_type": "markdown",
   "metadata": {},
   "source": [
    "(2) Cost of the path for IDA* here"
   ]
  },
  {
   "cell_type": "code",
   "execution_count": 142,
   "metadata": {},
   "outputs": [
    {
     "name": "stdout",
     "output_type": "stream",
     "text": [
      "Cost of the path using IDA*--- [9.6, 9.809999999999999, 10.07, 10.4, 10.83, 11.39, 12.1, 12.120000000000001, 12.16, 12.24, 12.41, 13.0, 13.0, 13.0]\n"
     ]
    }
   ],
   "source": [
    "# Execute statement to retrieve the cost of the path here using IDA*\n",
    "print(\"Cost of the path using IDA*---\",path_cost_IDA)"
   ]
  },
  {
   "cell_type": "code",
   "execution_count": 143,
   "metadata": {},
   "outputs": [
    {
     "name": "stdout",
     "output_type": "stream",
     "text": [
      "Total cost through IDA* for optimal path ---- 162.13\n"
     ]
    }
   ],
   "source": [
    "print(\"Total cost through IDA* for optimal path ----\", sum(path_cost_IDA))"
   ]
  },
  {
   "cell_type": "markdown",
   "metadata": {},
   "source": [
    "(2) Cost of the path for Best First Search here"
   ]
  },
  {
   "cell_type": "code",
   "execution_count": 144,
   "metadata": {},
   "outputs": [
    {
     "name": "stdout",
     "output_type": "stream",
     "text": [
      "Cost of the path using Best First Search --- [8.6, 7.81, 7.07, 6.4, 5.83, 5.39, 5.1, 4.12, 3.16, 2.24, 1.41, 1.0, 0.0, 0.0]\n"
     ]
    }
   ],
   "source": [
    "# Execute statement to retrieve the cost of the path here using Best First Search\n",
    "print(\"Cost of the path using Best First Search ---\" ,path_cost_BFS)"
   ]
  },
  {
   "cell_type": "markdown",
   "metadata": {},
   "source": [
    "(3) Total Number of nodes expanded to get this state using IDA*"
   ]
  },
  {
   "cell_type": "code",
   "execution_count": 145,
   "metadata": {},
   "outputs": [
    {
     "name": "stdout",
     "output_type": "stream",
     "text": [
      "Total nodes expanded to get this state with IDA* ----- 14\n"
     ]
    }
   ],
   "source": [
    "# Execute statement to retrieve the total number of nodes expanded to get this state using IDA* here\n",
    "print(\"Total nodes expanded to get this state with IDA* -----\",  len(agent_path_IDA))"
   ]
  },
  {
   "cell_type": "markdown",
   "metadata": {},
   "source": [
    "(3) Total Number of nodes expanded to get this state using Best First Search"
   ]
  },
  {
   "cell_type": "code",
   "execution_count": 146,
   "metadata": {},
   "outputs": [
    {
     "name": "stdout",
     "output_type": "stream",
     "text": [
      "Total nodes expanded to get this state with Best First Search ----- 14\n"
     ]
    }
   ],
   "source": [
    "# Execute statement to retrieve the total number of nodes expanded to get this state using Best First Search here\n",
    "print(\"Total nodes expanded to get this state with Best First Search -----\",  len(agent_path_BFS))"
   ]
  },
  {
   "cell_type": "markdown",
   "metadata": {},
   "source": [
    "(4) Maximum number of nodes kept at the memory at any point in time using IDA*"
   ]
  },
  {
   "cell_type": "code",
   "execution_count": 147,
   "metadata": {},
   "outputs": [
    {
     "name": "stdout",
     "output_type": "stream",
     "text": [
      "Maximum number of nodes kept at the memory at any point in time using IDA* ---  37\n"
     ]
    }
   ],
   "source": [
    "# Execute Output for the maximum number of nodes kept at the memory at any point in time using IDA* here\n",
    "print(\"Maximum number of nodes kept at the memory at any point in time using IDA* --- \" ,memory_nodes)"
   ]
  },
  {
   "cell_type": "markdown",
   "metadata": {},
   "source": [
    "(4) Maximum number of nodes kept at the memory at any point in time using Best First Search"
   ]
  },
  {
   "cell_type": "code",
   "execution_count": 148,
   "metadata": {},
   "outputs": [
    {
     "name": "stdout",
     "output_type": "stream",
     "text": [
      "Maximum number of nodes kept at the memory at any point in time using Best First Search---- 38\n"
     ]
    }
   ],
   "source": [
    "# Execute Output for the maximum number of nodes kept at the memory at any point in time using Best First Search here\n",
    "print(\"Maximum number of nodes kept at the memory at any point in time using Best First Search----\" ,mem_nodes_bfs)"
   ]
  },
  {
   "cell_type": "markdown",
   "metadata": {},
   "source": [
    "All the best!! Happy Coding!!\n",
    "Let human intelligence prevail"
   ]
  }
 ],
 "metadata": {
  "kernelspec": {
   "display_name": "Python 3",
   "language": "python",
   "name": "python3"
  },
  "language_info": {
   "codemirror_mode": {
    "name": "ipython",
    "version": 3
   },
   "file_extension": ".py",
   "mimetype": "text/x-python",
   "name": "python",
   "nbconvert_exporter": "python",
   "pygments_lexer": "ipython3",
   "version": "3.7.3"
  }
 },
 "nbformat": 4,
 "nbformat_minor": 2
}
